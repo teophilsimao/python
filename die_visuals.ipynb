{
 "cells": [
  {
   "cell_type": "code",
   "execution_count": 1,
   "metadata": {},
   "outputs": [],
   "source": [
    "import plotly.express as px\n",
    "import matplotlib.pyplot as plt\n",
    "from die import Die\n",
    "from random_walk import RandomWalk"
   ]
  },
  {
   "cell_type": "code",
   "execution_count": 4,
   "metadata": {},
   "outputs": [],
   "source": [
    "die_1 = Die()\n",
    "die_2 = Die()\n",
    "# die_3 = Die()\n",
    "\n",
    "results = [x := die_1.roll() + die_2.roll() for _ in range(100_000)]\n",
    "\n",
    "max_result = die_1.num_sides + die_2.num_sides\n",
    "poss_result = range(2, max_result + 1)\n",
    "frequencies = [y := results.count(value) for value in poss_result]\n"
   ]
  },
  {
   "cell_type": "code",
   "execution_count": 5,
   "metadata": {},
   "outputs": [
    {
     "data": {
      "application/vnd.plotly.v1+json": {
       "config": {
        "plotlyServerURL": "https://plot.ly"
       },
       "data": [
        {
         "hovertemplate": "Results=%{x}<br>Frequency of Results=%{y}<extra></extra>",
         "legendgroup": "",
         "marker": {
          "color": "#636efa",
          "pattern": {
           "shape": ""
          }
         },
         "name": "",
         "orientation": "v",
         "showlegend": false,
         "textposition": "auto",
         "type": "bar",
         "x": {
          "bdata": "AgMEBQYHCAkKCww=",
          "dtype": "i1"
         },
         "xaxis": "x",
         "y": {
          "bdata": "1wqOFc8grSoJNnFBPTYpLIcghxXRCg==",
          "dtype": "i2"
         },
         "yaxis": "y"
        }
       ],
       "layout": {
        "barmode": "relative",
        "legend": {
         "tracegroupgap": 0
        },
        "template": {
         "data": {
          "bar": [
           {
            "error_x": {
             "color": "#2a3f5f"
            },
            "error_y": {
             "color": "#2a3f5f"
            },
            "marker": {
             "line": {
              "color": "#E5ECF6",
              "width": 0.5
             },
             "pattern": {
              "fillmode": "overlay",
              "size": 10,
              "solidity": 0.2
             }
            },
            "type": "bar"
           }
          ],
          "barpolar": [
           {
            "marker": {
             "line": {
              "color": "#E5ECF6",
              "width": 0.5
             },
             "pattern": {
              "fillmode": "overlay",
              "size": 10,
              "solidity": 0.2
             }
            },
            "type": "barpolar"
           }
          ],
          "carpet": [
           {
            "aaxis": {
             "endlinecolor": "#2a3f5f",
             "gridcolor": "white",
             "linecolor": "white",
             "minorgridcolor": "white",
             "startlinecolor": "#2a3f5f"
            },
            "baxis": {
             "endlinecolor": "#2a3f5f",
             "gridcolor": "white",
             "linecolor": "white",
             "minorgridcolor": "white",
             "startlinecolor": "#2a3f5f"
            },
            "type": "carpet"
           }
          ],
          "choropleth": [
           {
            "colorbar": {
             "outlinewidth": 0,
             "ticks": ""
            },
            "type": "choropleth"
           }
          ],
          "contour": [
           {
            "colorbar": {
             "outlinewidth": 0,
             "ticks": ""
            },
            "colorscale": [
             [
              0,
              "#0d0887"
             ],
             [
              0.1111111111111111,
              "#46039f"
             ],
             [
              0.2222222222222222,
              "#7201a8"
             ],
             [
              0.3333333333333333,
              "#9c179e"
             ],
             [
              0.4444444444444444,
              "#bd3786"
             ],
             [
              0.5555555555555556,
              "#d8576b"
             ],
             [
              0.6666666666666666,
              "#ed7953"
             ],
             [
              0.7777777777777778,
              "#fb9f3a"
             ],
             [
              0.8888888888888888,
              "#fdca26"
             ],
             [
              1,
              "#f0f921"
             ]
            ],
            "type": "contour"
           }
          ],
          "contourcarpet": [
           {
            "colorbar": {
             "outlinewidth": 0,
             "ticks": ""
            },
            "type": "contourcarpet"
           }
          ],
          "heatmap": [
           {
            "colorbar": {
             "outlinewidth": 0,
             "ticks": ""
            },
            "colorscale": [
             [
              0,
              "#0d0887"
             ],
             [
              0.1111111111111111,
              "#46039f"
             ],
             [
              0.2222222222222222,
              "#7201a8"
             ],
             [
              0.3333333333333333,
              "#9c179e"
             ],
             [
              0.4444444444444444,
              "#bd3786"
             ],
             [
              0.5555555555555556,
              "#d8576b"
             ],
             [
              0.6666666666666666,
              "#ed7953"
             ],
             [
              0.7777777777777778,
              "#fb9f3a"
             ],
             [
              0.8888888888888888,
              "#fdca26"
             ],
             [
              1,
              "#f0f921"
             ]
            ],
            "type": "heatmap"
           }
          ],
          "histogram": [
           {
            "marker": {
             "pattern": {
              "fillmode": "overlay",
              "size": 10,
              "solidity": 0.2
             }
            },
            "type": "histogram"
           }
          ],
          "histogram2d": [
           {
            "colorbar": {
             "outlinewidth": 0,
             "ticks": ""
            },
            "colorscale": [
             [
              0,
              "#0d0887"
             ],
             [
              0.1111111111111111,
              "#46039f"
             ],
             [
              0.2222222222222222,
              "#7201a8"
             ],
             [
              0.3333333333333333,
              "#9c179e"
             ],
             [
              0.4444444444444444,
              "#bd3786"
             ],
             [
              0.5555555555555556,
              "#d8576b"
             ],
             [
              0.6666666666666666,
              "#ed7953"
             ],
             [
              0.7777777777777778,
              "#fb9f3a"
             ],
             [
              0.8888888888888888,
              "#fdca26"
             ],
             [
              1,
              "#f0f921"
             ]
            ],
            "type": "histogram2d"
           }
          ],
          "histogram2dcontour": [
           {
            "colorbar": {
             "outlinewidth": 0,
             "ticks": ""
            },
            "colorscale": [
             [
              0,
              "#0d0887"
             ],
             [
              0.1111111111111111,
              "#46039f"
             ],
             [
              0.2222222222222222,
              "#7201a8"
             ],
             [
              0.3333333333333333,
              "#9c179e"
             ],
             [
              0.4444444444444444,
              "#bd3786"
             ],
             [
              0.5555555555555556,
              "#d8576b"
             ],
             [
              0.6666666666666666,
              "#ed7953"
             ],
             [
              0.7777777777777778,
              "#fb9f3a"
             ],
             [
              0.8888888888888888,
              "#fdca26"
             ],
             [
              1,
              "#f0f921"
             ]
            ],
            "type": "histogram2dcontour"
           }
          ],
          "mesh3d": [
           {
            "colorbar": {
             "outlinewidth": 0,
             "ticks": ""
            },
            "type": "mesh3d"
           }
          ],
          "parcoords": [
           {
            "line": {
             "colorbar": {
              "outlinewidth": 0,
              "ticks": ""
             }
            },
            "type": "parcoords"
           }
          ],
          "pie": [
           {
            "automargin": true,
            "type": "pie"
           }
          ],
          "scatter": [
           {
            "fillpattern": {
             "fillmode": "overlay",
             "size": 10,
             "solidity": 0.2
            },
            "type": "scatter"
           }
          ],
          "scatter3d": [
           {
            "line": {
             "colorbar": {
              "outlinewidth": 0,
              "ticks": ""
             }
            },
            "marker": {
             "colorbar": {
              "outlinewidth": 0,
              "ticks": ""
             }
            },
            "type": "scatter3d"
           }
          ],
          "scattercarpet": [
           {
            "marker": {
             "colorbar": {
              "outlinewidth": 0,
              "ticks": ""
             }
            },
            "type": "scattercarpet"
           }
          ],
          "scattergeo": [
           {
            "marker": {
             "colorbar": {
              "outlinewidth": 0,
              "ticks": ""
             }
            },
            "type": "scattergeo"
           }
          ],
          "scattergl": [
           {
            "marker": {
             "colorbar": {
              "outlinewidth": 0,
              "ticks": ""
             }
            },
            "type": "scattergl"
           }
          ],
          "scattermap": [
           {
            "marker": {
             "colorbar": {
              "outlinewidth": 0,
              "ticks": ""
             }
            },
            "type": "scattermap"
           }
          ],
          "scattermapbox": [
           {
            "marker": {
             "colorbar": {
              "outlinewidth": 0,
              "ticks": ""
             }
            },
            "type": "scattermapbox"
           }
          ],
          "scatterpolar": [
           {
            "marker": {
             "colorbar": {
              "outlinewidth": 0,
              "ticks": ""
             }
            },
            "type": "scatterpolar"
           }
          ],
          "scatterpolargl": [
           {
            "marker": {
             "colorbar": {
              "outlinewidth": 0,
              "ticks": ""
             }
            },
            "type": "scatterpolargl"
           }
          ],
          "scatterternary": [
           {
            "marker": {
             "colorbar": {
              "outlinewidth": 0,
              "ticks": ""
             }
            },
            "type": "scatterternary"
           }
          ],
          "surface": [
           {
            "colorbar": {
             "outlinewidth": 0,
             "ticks": ""
            },
            "colorscale": [
             [
              0,
              "#0d0887"
             ],
             [
              0.1111111111111111,
              "#46039f"
             ],
             [
              0.2222222222222222,
              "#7201a8"
             ],
             [
              0.3333333333333333,
              "#9c179e"
             ],
             [
              0.4444444444444444,
              "#bd3786"
             ],
             [
              0.5555555555555556,
              "#d8576b"
             ],
             [
              0.6666666666666666,
              "#ed7953"
             ],
             [
              0.7777777777777778,
              "#fb9f3a"
             ],
             [
              0.8888888888888888,
              "#fdca26"
             ],
             [
              1,
              "#f0f921"
             ]
            ],
            "type": "surface"
           }
          ],
          "table": [
           {
            "cells": {
             "fill": {
              "color": "#EBF0F8"
             },
             "line": {
              "color": "white"
             }
            },
            "header": {
             "fill": {
              "color": "#C8D4E3"
             },
             "line": {
              "color": "white"
             }
            },
            "type": "table"
           }
          ]
         },
         "layout": {
          "annotationdefaults": {
           "arrowcolor": "#2a3f5f",
           "arrowhead": 0,
           "arrowwidth": 1
          },
          "autotypenumbers": "strict",
          "coloraxis": {
           "colorbar": {
            "outlinewidth": 0,
            "ticks": ""
           }
          },
          "colorscale": {
           "diverging": [
            [
             0,
             "#8e0152"
            ],
            [
             0.1,
             "#c51b7d"
            ],
            [
             0.2,
             "#de77ae"
            ],
            [
             0.3,
             "#f1b6da"
            ],
            [
             0.4,
             "#fde0ef"
            ],
            [
             0.5,
             "#f7f7f7"
            ],
            [
             0.6,
             "#e6f5d0"
            ],
            [
             0.7,
             "#b8e186"
            ],
            [
             0.8,
             "#7fbc41"
            ],
            [
             0.9,
             "#4d9221"
            ],
            [
             1,
             "#276419"
            ]
           ],
           "sequential": [
            [
             0,
             "#0d0887"
            ],
            [
             0.1111111111111111,
             "#46039f"
            ],
            [
             0.2222222222222222,
             "#7201a8"
            ],
            [
             0.3333333333333333,
             "#9c179e"
            ],
            [
             0.4444444444444444,
             "#bd3786"
            ],
            [
             0.5555555555555556,
             "#d8576b"
            ],
            [
             0.6666666666666666,
             "#ed7953"
            ],
            [
             0.7777777777777778,
             "#fb9f3a"
            ],
            [
             0.8888888888888888,
             "#fdca26"
            ],
            [
             1,
             "#f0f921"
            ]
           ],
           "sequentialminus": [
            [
             0,
             "#0d0887"
            ],
            [
             0.1111111111111111,
             "#46039f"
            ],
            [
             0.2222222222222222,
             "#7201a8"
            ],
            [
             0.3333333333333333,
             "#9c179e"
            ],
            [
             0.4444444444444444,
             "#bd3786"
            ],
            [
             0.5555555555555556,
             "#d8576b"
            ],
            [
             0.6666666666666666,
             "#ed7953"
            ],
            [
             0.7777777777777778,
             "#fb9f3a"
            ],
            [
             0.8888888888888888,
             "#fdca26"
            ],
            [
             1,
             "#f0f921"
            ]
           ]
          },
          "colorway": [
           "#636efa",
           "#EF553B",
           "#00cc96",
           "#ab63fa",
           "#FFA15A",
           "#19d3f3",
           "#FF6692",
           "#B6E880",
           "#FF97FF",
           "#FECB52"
          ],
          "font": {
           "color": "#2a3f5f"
          },
          "geo": {
           "bgcolor": "white",
           "lakecolor": "white",
           "landcolor": "#E5ECF6",
           "showlakes": true,
           "showland": true,
           "subunitcolor": "white"
          },
          "hoverlabel": {
           "align": "left"
          },
          "hovermode": "closest",
          "mapbox": {
           "style": "light"
          },
          "paper_bgcolor": "white",
          "plot_bgcolor": "#E5ECF6",
          "polar": {
           "angularaxis": {
            "gridcolor": "white",
            "linecolor": "white",
            "ticks": ""
           },
           "bgcolor": "#E5ECF6",
           "radialaxis": {
            "gridcolor": "white",
            "linecolor": "white",
            "ticks": ""
           }
          },
          "scene": {
           "xaxis": {
            "backgroundcolor": "#E5ECF6",
            "gridcolor": "white",
            "gridwidth": 2,
            "linecolor": "white",
            "showbackground": true,
            "ticks": "",
            "zerolinecolor": "white"
           },
           "yaxis": {
            "backgroundcolor": "#E5ECF6",
            "gridcolor": "white",
            "gridwidth": 2,
            "linecolor": "white",
            "showbackground": true,
            "ticks": "",
            "zerolinecolor": "white"
           },
           "zaxis": {
            "backgroundcolor": "#E5ECF6",
            "gridcolor": "white",
            "gridwidth": 2,
            "linecolor": "white",
            "showbackground": true,
            "ticks": "",
            "zerolinecolor": "white"
           }
          },
          "shapedefaults": {
           "line": {
            "color": "#2a3f5f"
           }
          },
          "ternary": {
           "aaxis": {
            "gridcolor": "white",
            "linecolor": "white",
            "ticks": ""
           },
           "baxis": {
            "gridcolor": "white",
            "linecolor": "white",
            "ticks": ""
           },
           "bgcolor": "#E5ECF6",
           "caxis": {
            "gridcolor": "white",
            "linecolor": "white",
            "ticks": ""
           }
          },
          "title": {
           "x": 0.05
          },
          "xaxis": {
           "automargin": true,
           "gridcolor": "white",
           "linecolor": "white",
           "ticks": "",
           "title": {
            "standoff": 15
           },
           "zerolinecolor": "white",
           "zerolinewidth": 2
          },
          "yaxis": {
           "automargin": true,
           "gridcolor": "white",
           "linecolor": "white",
           "ticks": "",
           "title": {
            "standoff": 15
           },
           "zerolinecolor": "white",
           "zerolinewidth": 2
          }
         }
        },
        "title": {
         "text": "Results of Rolling Two D6 1,000 Times"
        },
        "xaxis": {
         "anchor": "y",
         "domain": [
          0,
          1
         ],
         "dtick": 1,
         "title": {
          "text": "Results"
         }
        },
        "yaxis": {
         "anchor": "x",
         "domain": [
          0,
          1
         ],
         "title": {
          "text": "Frequency of Results"
         }
        }
       }
      }
     },
     "metadata": {},
     "output_type": "display_data"
    }
   ],
   "source": [
    "title = 'Results of Rolling Two D6 1,000 Times'\n",
    "labels = {'x': 'Results', 'y': 'Frequency of Results'}\n",
    "fig = px.bar(x=poss_result, y=frequencies, title=title, labels=labels)\n",
    "\n",
    "fig.update_layout(xaxis_dtick=1)\n",
    "# fig.write_html('dice_visual_d6d10.html')\n",
    "fig.show()"
   ]
  },
  {
   "cell_type": "code",
   "execution_count": 147,
   "metadata": {},
   "outputs": [
    {
     "data": {
      "application/vnd.plotly.v1+json": {
       "config": {
        "plotlyServerURL": "https://plot.ly"
       },
       "data": [
        {
         "hovertemplate": "x=%{x}<br>y=%{y}<extra></extra>",
         "legendgroup": "",
         "line": {
          "color": "#636efa",
          "dash": "solid"
         },
         "marker": {
          "symbol": "circle"
         },
         "mode": "lines",
         "name": "",
         "showlegend": false,
         "type": "scattergl",
         "x": {
          "bdata": "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",
          "dtype": "i1"
         },
         "xaxis": "x",
         "y": {
          "bdata": "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",
          "dtype": "i2"
         },
         "yaxis": "y"
        },
        {
         "hovertemplate": "x=%{x}<br>y=%{y}<extra></extra>",
         "legendgroup": "",
         "marker": {
          "color": "red",
          "size": 15,
          "symbol": "circle"
         },
         "mode": "markers",
         "name": "",
         "orientation": "v",
         "showlegend": false,
         "type": "scatter",
         "x": {
          "bdata": "AA==",
          "dtype": "i1"
         },
         "xaxis": "x",
         "y": {
          "bdata": "AA==",
          "dtype": "i1"
         },
         "yaxis": "y"
        },
        {
         "hovertemplate": "x=%{x}<br>y=%{y}<extra></extra>",
         "legendgroup": "",
         "marker": {
          "color": "green",
          "size": 15,
          "symbol": "circle"
         },
         "mode": "markers",
         "name": "",
         "orientation": "v",
         "showlegend": false,
         "type": "scatter",
         "x": {
          "bdata": "RQ==",
          "dtype": "i1"
         },
         "xaxis": "x",
         "y": {
          "bdata": "sP4=",
          "dtype": "i2"
         },
         "yaxis": "y"
        }
       ],
       "layout": {
        "legend": {
         "tracegroupgap": 0
        },
        "margin": {
         "t": 60
        },
        "template": {
         "data": {
          "bar": [
           {
            "error_x": {
             "color": "#2a3f5f"
            },
            "error_y": {
             "color": "#2a3f5f"
            },
            "marker": {
             "line": {
              "color": "#E5ECF6",
              "width": 0.5
             },
             "pattern": {
              "fillmode": "overlay",
              "size": 10,
              "solidity": 0.2
             }
            },
            "type": "bar"
           }
          ],
          "barpolar": [
           {
            "marker": {
             "line": {
              "color": "#E5ECF6",
              "width": 0.5
             },
             "pattern": {
              "fillmode": "overlay",
              "size": 10,
              "solidity": 0.2
             }
            },
            "type": "barpolar"
           }
          ],
          "carpet": [
           {
            "aaxis": {
             "endlinecolor": "#2a3f5f",
             "gridcolor": "white",
             "linecolor": "white",
             "minorgridcolor": "white",
             "startlinecolor": "#2a3f5f"
            },
            "baxis": {
             "endlinecolor": "#2a3f5f",
             "gridcolor": "white",
             "linecolor": "white",
             "minorgridcolor": "white",
             "startlinecolor": "#2a3f5f"
            },
            "type": "carpet"
           }
          ],
          "choropleth": [
           {
            "colorbar": {
             "outlinewidth": 0,
             "ticks": ""
            },
            "type": "choropleth"
           }
          ],
          "contour": [
           {
            "colorbar": {
             "outlinewidth": 0,
             "ticks": ""
            },
            "colorscale": [
             [
              0,
              "#0d0887"
             ],
             [
              0.1111111111111111,
              "#46039f"
             ],
             [
              0.2222222222222222,
              "#7201a8"
             ],
             [
              0.3333333333333333,
              "#9c179e"
             ],
             [
              0.4444444444444444,
              "#bd3786"
             ],
             [
              0.5555555555555556,
              "#d8576b"
             ],
             [
              0.6666666666666666,
              "#ed7953"
             ],
             [
              0.7777777777777778,
              "#fb9f3a"
             ],
             [
              0.8888888888888888,
              "#fdca26"
             ],
             [
              1,
              "#f0f921"
             ]
            ],
            "type": "contour"
           }
          ],
          "contourcarpet": [
           {
            "colorbar": {
             "outlinewidth": 0,
             "ticks": ""
            },
            "type": "contourcarpet"
           }
          ],
          "heatmap": [
           {
            "colorbar": {
             "outlinewidth": 0,
             "ticks": ""
            },
            "colorscale": [
             [
              0,
              "#0d0887"
             ],
             [
              0.1111111111111111,
              "#46039f"
             ],
             [
              0.2222222222222222,
              "#7201a8"
             ],
             [
              0.3333333333333333,
              "#9c179e"
             ],
             [
              0.4444444444444444,
              "#bd3786"
             ],
             [
              0.5555555555555556,
              "#d8576b"
             ],
             [
              0.6666666666666666,
              "#ed7953"
             ],
             [
              0.7777777777777778,
              "#fb9f3a"
             ],
             [
              0.8888888888888888,
              "#fdca26"
             ],
             [
              1,
              "#f0f921"
             ]
            ],
            "type": "heatmap"
           }
          ],
          "histogram": [
           {
            "marker": {
             "pattern": {
              "fillmode": "overlay",
              "size": 10,
              "solidity": 0.2
             }
            },
            "type": "histogram"
           }
          ],
          "histogram2d": [
           {
            "colorbar": {
             "outlinewidth": 0,
             "ticks": ""
            },
            "colorscale": [
             [
              0,
              "#0d0887"
             ],
             [
              0.1111111111111111,
              "#46039f"
             ],
             [
              0.2222222222222222,
              "#7201a8"
             ],
             [
              0.3333333333333333,
              "#9c179e"
             ],
             [
              0.4444444444444444,
              "#bd3786"
             ],
             [
              0.5555555555555556,
              "#d8576b"
             ],
             [
              0.6666666666666666,
              "#ed7953"
             ],
             [
              0.7777777777777778,
              "#fb9f3a"
             ],
             [
              0.8888888888888888,
              "#fdca26"
             ],
             [
              1,
              "#f0f921"
             ]
            ],
            "type": "histogram2d"
           }
          ],
          "histogram2dcontour": [
           {
            "colorbar": {
             "outlinewidth": 0,
             "ticks": ""
            },
            "colorscale": [
             [
              0,
              "#0d0887"
             ],
             [
              0.1111111111111111,
              "#46039f"
             ],
             [
              0.2222222222222222,
              "#7201a8"
             ],
             [
              0.3333333333333333,
              "#9c179e"
             ],
             [
              0.4444444444444444,
              "#bd3786"
             ],
             [
              0.5555555555555556,
              "#d8576b"
             ],
             [
              0.6666666666666666,
              "#ed7953"
             ],
             [
              0.7777777777777778,
              "#fb9f3a"
             ],
             [
              0.8888888888888888,
              "#fdca26"
             ],
             [
              1,
              "#f0f921"
             ]
            ],
            "type": "histogram2dcontour"
           }
          ],
          "mesh3d": [
           {
            "colorbar": {
             "outlinewidth": 0,
             "ticks": ""
            },
            "type": "mesh3d"
           }
          ],
          "parcoords": [
           {
            "line": {
             "colorbar": {
              "outlinewidth": 0,
              "ticks": ""
             }
            },
            "type": "parcoords"
           }
          ],
          "pie": [
           {
            "automargin": true,
            "type": "pie"
           }
          ],
          "scatter": [
           {
            "fillpattern": {
             "fillmode": "overlay",
             "size": 10,
             "solidity": 0.2
            },
            "type": "scatter"
           }
          ],
          "scatter3d": [
           {
            "line": {
             "colorbar": {
              "outlinewidth": 0,
              "ticks": ""
             }
            },
            "marker": {
             "colorbar": {
              "outlinewidth": 0,
              "ticks": ""
             }
            },
            "type": "scatter3d"
           }
          ],
          "scattercarpet": [
           {
            "marker": {
             "colorbar": {
              "outlinewidth": 0,
              "ticks": ""
             }
            },
            "type": "scattercarpet"
           }
          ],
          "scattergeo": [
           {
            "marker": {
             "colorbar": {
              "outlinewidth": 0,
              "ticks": ""
             }
            },
            "type": "scattergeo"
           }
          ],
          "scattergl": [
           {
            "marker": {
             "colorbar": {
              "outlinewidth": 0,
              "ticks": ""
             }
            },
            "type": "scattergl"
           }
          ],
          "scattermap": [
           {
            "marker": {
             "colorbar": {
              "outlinewidth": 0,
              "ticks": ""
             }
            },
            "type": "scattermap"
           }
          ],
          "scattermapbox": [
           {
            "marker": {
             "colorbar": {
              "outlinewidth": 0,
              "ticks": ""
             }
            },
            "type": "scattermapbox"
           }
          ],
          "scatterpolar": [
           {
            "marker": {
             "colorbar": {
              "outlinewidth": 0,
              "ticks": ""
             }
            },
            "type": "scatterpolar"
           }
          ],
          "scatterpolargl": [
           {
            "marker": {
             "colorbar": {
              "outlinewidth": 0,
              "ticks": ""
             }
            },
            "type": "scatterpolargl"
           }
          ],
          "scatterternary": [
           {
            "marker": {
             "colorbar": {
              "outlinewidth": 0,
              "ticks": ""
             }
            },
            "type": "scatterternary"
           }
          ],
          "surface": [
           {
            "colorbar": {
             "outlinewidth": 0,
             "ticks": ""
            },
            "colorscale": [
             [
              0,
              "#0d0887"
             ],
             [
              0.1111111111111111,
              "#46039f"
             ],
             [
              0.2222222222222222,
              "#7201a8"
             ],
             [
              0.3333333333333333,
              "#9c179e"
             ],
             [
              0.4444444444444444,
              "#bd3786"
             ],
             [
              0.5555555555555556,
              "#d8576b"
             ],
             [
              0.6666666666666666,
              "#ed7953"
             ],
             [
              0.7777777777777778,
              "#fb9f3a"
             ],
             [
              0.8888888888888888,
              "#fdca26"
             ],
             [
              1,
              "#f0f921"
             ]
            ],
            "type": "surface"
           }
          ],
          "table": [
           {
            "cells": {
             "fill": {
              "color": "#EBF0F8"
             },
             "line": {
              "color": "white"
             }
            },
            "header": {
             "fill": {
              "color": "#C8D4E3"
             },
             "line": {
              "color": "white"
             }
            },
            "type": "table"
           }
          ]
         },
         "layout": {
          "annotationdefaults": {
           "arrowcolor": "#2a3f5f",
           "arrowhead": 0,
           "arrowwidth": 1
          },
          "autotypenumbers": "strict",
          "coloraxis": {
           "colorbar": {
            "outlinewidth": 0,
            "ticks": ""
           }
          },
          "colorscale": {
           "diverging": [
            [
             0,
             "#8e0152"
            ],
            [
             0.1,
             "#c51b7d"
            ],
            [
             0.2,
             "#de77ae"
            ],
            [
             0.3,
             "#f1b6da"
            ],
            [
             0.4,
             "#fde0ef"
            ],
            [
             0.5,
             "#f7f7f7"
            ],
            [
             0.6,
             "#e6f5d0"
            ],
            [
             0.7,
             "#b8e186"
            ],
            [
             0.8,
             "#7fbc41"
            ],
            [
             0.9,
             "#4d9221"
            ],
            [
             1,
             "#276419"
            ]
           ],
           "sequential": [
            [
             0,
             "#0d0887"
            ],
            [
             0.1111111111111111,
             "#46039f"
            ],
            [
             0.2222222222222222,
             "#7201a8"
            ],
            [
             0.3333333333333333,
             "#9c179e"
            ],
            [
             0.4444444444444444,
             "#bd3786"
            ],
            [
             0.5555555555555556,
             "#d8576b"
            ],
            [
             0.6666666666666666,
             "#ed7953"
            ],
            [
             0.7777777777777778,
             "#fb9f3a"
            ],
            [
             0.8888888888888888,
             "#fdca26"
            ],
            [
             1,
             "#f0f921"
            ]
           ],
           "sequentialminus": [
            [
             0,
             "#0d0887"
            ],
            [
             0.1111111111111111,
             "#46039f"
            ],
            [
             0.2222222222222222,
             "#7201a8"
            ],
            [
             0.3333333333333333,
             "#9c179e"
            ],
            [
             0.4444444444444444,
             "#bd3786"
            ],
            [
             0.5555555555555556,
             "#d8576b"
            ],
            [
             0.6666666666666666,
             "#ed7953"
            ],
            [
             0.7777777777777778,
             "#fb9f3a"
            ],
            [
             0.8888888888888888,
             "#fdca26"
            ],
            [
             1,
             "#f0f921"
            ]
           ]
          },
          "colorway": [
           "#636efa",
           "#EF553B",
           "#00cc96",
           "#ab63fa",
           "#FFA15A",
           "#19d3f3",
           "#FF6692",
           "#B6E880",
           "#FF97FF",
           "#FECB52"
          ],
          "font": {
           "color": "#2a3f5f"
          },
          "geo": {
           "bgcolor": "white",
           "lakecolor": "white",
           "landcolor": "#E5ECF6",
           "showlakes": true,
           "showland": true,
           "subunitcolor": "white"
          },
          "hoverlabel": {
           "align": "left"
          },
          "hovermode": "closest",
          "mapbox": {
           "style": "light"
          },
          "paper_bgcolor": "white",
          "plot_bgcolor": "#E5ECF6",
          "polar": {
           "angularaxis": {
            "gridcolor": "white",
            "linecolor": "white",
            "ticks": ""
           },
           "bgcolor": "#E5ECF6",
           "radialaxis": {
            "gridcolor": "white",
            "linecolor": "white",
            "ticks": ""
           }
          },
          "scene": {
           "xaxis": {
            "backgroundcolor": "#E5ECF6",
            "gridcolor": "white",
            "gridwidth": 2,
            "linecolor": "white",
            "showbackground": true,
            "ticks": "",
            "zerolinecolor": "white"
           },
           "yaxis": {
            "backgroundcolor": "#E5ECF6",
            "gridcolor": "white",
            "gridwidth": 2,
            "linecolor": "white",
            "showbackground": true,
            "ticks": "",
            "zerolinecolor": "white"
           },
           "zaxis": {
            "backgroundcolor": "#E5ECF6",
            "gridcolor": "white",
            "gridwidth": 2,
            "linecolor": "white",
            "showbackground": true,
            "ticks": "",
            "zerolinecolor": "white"
           }
          },
          "shapedefaults": {
           "line": {
            "color": "#2a3f5f"
           }
          },
          "ternary": {
           "aaxis": {
            "gridcolor": "white",
            "linecolor": "white",
            "ticks": ""
           },
           "baxis": {
            "gridcolor": "white",
            "linecolor": "white",
            "ticks": ""
           },
           "bgcolor": "#E5ECF6",
           "caxis": {
            "gridcolor": "white",
            "linecolor": "white",
            "ticks": ""
           }
          },
          "title": {
           "x": 0.05
          },
          "xaxis": {
           "automargin": true,
           "gridcolor": "white",
           "linecolor": "white",
           "ticks": "",
           "title": {
            "standoff": 15
           },
           "zerolinecolor": "white",
           "zerolinewidth": 2
          },
          "yaxis": {
           "automargin": true,
           "gridcolor": "white",
           "linecolor": "white",
           "ticks": "",
           "title": {
            "standoff": 15
           },
           "zerolinecolor": "white",
           "zerolinewidth": 2
          }
         }
        },
        "xaxis": {
         "anchor": "y",
         "domain": [
          0,
          1
         ],
         "showticklabels": false,
         "title": {
          "text": "x"
         },
         "visible": false
        },
        "yaxis": {
         "anchor": "x",
         "domain": [
          0,
          1
         ],
         "showticklabels": false,
         "title": {
          "text": "y"
         },
         "visible": false
        }
       }
      }
     },
     "metadata": {},
     "output_type": "display_data"
    }
   ],
   "source": [
    "rw = RandomWalk()\n",
    "rw.fill_walk()\n",
    "\n",
    "fig = px.line(x=rw.x_values, y=rw.y_values)\n",
    "\n",
    "fig.add_traces(\n",
    "    px.scatter(\n",
    "      x=[rw.x_values[0]], \n",
    "      y=[rw.y_values[0]], \n",
    "      color_discrete_sequence=['red']\n",
    "  ).update_traces(marker=dict(size=15)).data\n",
    ")\n",
    "\n",
    "fig.add_traces(\n",
    "    px.scatter(\n",
    "      x=[rw.x_values[-1]],\n",
    "      y=[rw.y_values[-1]],\n",
    "      color_discrete_sequence=['green']\n",
    "  ).update_traces(marker=dict(size=15)).data\n",
    ")\n",
    "\n",
    "fig.update_yaxes(visible=False, showticklabels=False)\n",
    "fig.update_xaxes(visible=False, showticklabels=False)\n",
    "\n",
    "fig.show()"
   ]
  },
  {
   "cell_type": "code",
   "execution_count": 148,
   "metadata": {},
   "outputs": [
    {
     "data": {
      "image/png": "[encoded data removed]",
      "text/plain": [
       "<Figure size 640x480 with 1 Axes>"
      ]
     },
     "metadata": {},
     "output_type": "display_data"
    }
   ],
   "source": [
    "plt.style.use('seaborn-v0_8-dark')\n",
    "fig, ax = plt.subplots()\n",
    "plt.title('Frequency of Two D6 100,000 Times')\n",
    "ax.bar(poss_result, frequencies)\n",
    "ax.set_xlabel('Result')\n",
    "ax.set_ylabel('Frequency of Result')\n",
    "ax.set_xlim(1, 13)\n",
    "ax.set_xticks(poss_result)\n",
    "ax.grid(True)\n",
    "# ax.axis([2, max_result, 0, 100_000])\n",
    "plt.show()"
   ]
  }
 ],
 "metadata": {
  "kernelspec": {
   "display_name": "venv",
   "language": "python",
   "name": "python3"
  },
  "language_info": {
   "codemirror_mode": {
    "name": "ipython",
    "version": 3
   },
   "file_extension": ".py",
   "mimetype": "text/x-python",
   "name": "python",
   "nbconvert_exporter": "python",
   "pygments_lexer": "ipython3",
   "version": "3.12.3"
  }
 },
 "nbformat": 4,
 "nbformat_minor": 2
}
